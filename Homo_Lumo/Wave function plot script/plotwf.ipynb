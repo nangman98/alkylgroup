{
 "cells": [
  {
   "cell_type": "code",
   "execution_count": 8,
   "metadata": {},
   "outputs": [
    {
     "name": "stdout",
     "output_type": "stream",
     "text": [
      "Found 2 eigenstates\n",
      "Writing to wfplot/siesta_*.xsf\n",
      "Target eigenstates: [0, 1]\n",
      "Processing 0\n",
      "Processing 1\n"
     ]
    },
    {
     "name": "stdout",
     "output_type": "stream",
     "text": [
      "Done!\n"
     ]
    }
   ],
   "source": [
    "import os\n",
    "import sisl\n",
    "import numpy as np\n",
    "import multiprocessing as mp\n",
    "from functools import partial\n",
    "\n",
    "# Plot SIESTA wavefunctions in real space\n",
    "# 1. Run SIESTA to get .WFSX file\n",
    "# (Example input)\n",
    "# WriteWaveFunctions T\n",
    "# WaveFuncKPointsScale ReciprocalLatticeVectors\n",
    "# %block WaveFuncKPoints\n",
    "# 0.0 0.0 0.0 from 200 to 300\n",
    "# %endblock WaveFuncKPoints\n",
    "#\n",
    "# 2. Run this script\n",
    "# python plot_wavefunctions.py\n",
    "#\n",
    "# 3. Open .xsf files using VESTA\n",
    "#\n",
    "\n",
    "# Input fdf file\n",
    "fdffile = './wave_input.fdf'\n",
    "# WFSX file\n",
    "wfsxfile = './siesta.selected.WFSX'\n",
    "# Grid shape (refer sisl.Grid doc)\n",
    "grid_shape = 0.1\n",
    "# Output directory\n",
    "outdir = 'wfplot'\n",
    "# Prefix for output files\n",
    "prefix = 'siesta'\n",
    "# Target eigenstates (None for all)\n",
    "# target = list(range(0, 416))\n",
    "target = [0,1] #None\n",
    "\n",
    "# Number of parallel processes\n",
    "num_pools = 16\n",
    "\n",
    "os.makedirs(outdir, exist_ok=True)\n",
    "\n",
    "fdf = sisl.io.siesta.fdfSileSiesta(fdffile)\n",
    "geom = fdf.read_geometry()\n",
    "wfsx = sisl.io.siesta.wfsxSileSiesta(wfsxfile, parent=geom)\n",
    "es = wfsx.read_eigenstate()\n",
    "neig = len(es)\n",
    "\n",
    "print(f'Found {neig} eigenstates')\n",
    "print(f'Writing to {outdir}/{prefix}_*.xsf')\n",
    "if target is not None:\n",
    "    print(f'Target eigenstates: {target}')\n",
    "else:\n",
    "    print('Target eigenstates: all')\n",
    "\n",
    "if target is None:\n",
    "    ieig_selected = np.arange(neig)\n",
    "else:\n",
    "    ieig_selected = target.copy()\n",
    "\n",
    "\n",
    "def process_wavefunction(i, es, grid_shape, geom, outdir, prefix):\n",
    "    print(f'Processing {i}')\n",
    "    grid = sisl.Grid(grid_shape, lattice=geom.cell)\n",
    "    es[i].wavefunction(grid)\n",
    "    grid.write(f'{outdir}/{prefix}_{i}.xsf')\n",
    "\n",
    "\n",
    "with mp.Pool(processes=num_pools) as pool:\n",
    "    pool.map(partial(process_wavefunction, es=es, grid_shape=grid_shape,\n",
    "             geom=geom, outdir=outdir, prefix=prefix), ieig_selected)\n",
    "\n",
    "print('Done!')"
   ]
  }
 ],
 "metadata": {
  "kernelspec": {
   "display_name": "local",
   "language": "python",
   "name": "python3"
  },
  "language_info": {
   "codemirror_mode": {
    "name": "ipython",
    "version": 3
   },
   "file_extension": ".py",
   "mimetype": "text/x-python",
   "name": "python",
   "nbconvert_exporter": "python",
   "pygments_lexer": "ipython3",
   "version": "3.12.8"
  }
 },
 "nbformat": 4,
 "nbformat_minor": 2
}
